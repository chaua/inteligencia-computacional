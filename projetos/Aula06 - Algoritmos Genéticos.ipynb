{
  "nbformat": 4,
  "nbformat_minor": 0,
  "metadata": {
    "colab": {
      "provenance": []
    },
    "kernelspec": {
      "name": "python3",
      "display_name": "Python 3"
    },
    "language_info": {
      "name": "python"
    }
  },
  "cells": [
    {
      "cell_type": "markdown",
      "source": [
        "# Algoritmos Genéticos\n",
        "\n",
        "Estrutura básica do algoritmo evolutivo:\n",
        "\n",
        "```\n",
        "1. t = 0\n",
        "2. Inicializar população P0\n",
        "3. Enquanto critério de parada == falso\n",
        "   3.1 Avaliar população (Pt)\n",
        "   3.2 P’ = Selecionar pais (Pt)\n",
        "   3.3 F  = Aplicar recombinação e mutação (P’)\n",
        "   3.4 Avaliar população (F)\n",
        "   3.5 Pt+1 = Selecionar sobreviventes(Pt + F)\n",
        "   3.6 t = t + 1\n",
        "```\n"
      ],
      "metadata": {
        "id": "o-vuaAdoFWbh"
      }
    },
    {
      "cell_type": "markdown",
      "source": [
        "## Modelagem do cromossomo"
      ],
      "metadata": {
        "id": "WA0Mt3oUC7ry"
      }
    },
    {
      "cell_type": "code",
      "source": [
        "from dataclasses import dataclass\n",
        "from dataclasses import field\n",
        "from typing import List\n",
        "from typing import Callable\n",
        "from random import randint\n",
        "\n",
        "\n",
        "@dataclass\n",
        "class Cromossomo:\n",
        "    fitness: Callable[[int], float]\n",
        "    tamanho: int = 0\n",
        "    vetor: List[int] = field(default_factory=list)\n",
        "\n",
        "    def __post_init__(self):\n",
        "        \"\"\"Método chamado após o construtor.\"\"\"\n",
        "        self.vetor = [randint(0, 1) for _ in range(self.tamanho)]\n",
        "\n",
        "    def __getitem__(self, key):\n",
        "        return self.vetor[key]\n",
        "\n",
        "    def __setitem__(self, key, value):\n",
        "        self.vetor[key] = value\n",
        "\n",
        "    def __len__(self):\n",
        "        return self.tamanho\n",
        "\n",
        "    def get_fitness(self):\n",
        "        return self.fitness(self.vetor)\n",
        "\n",
        "    # TODO: Implementar a cache do fitness\n"
      ],
      "metadata": {
        "id": "2xSCI60IFkk9"
      },
      "execution_count": null,
      "outputs": []
    },
    {
      "cell_type": "markdown",
      "source": [
        "## Algoritmos de seleção dos pais"
      ],
      "metadata": {
        "id": "9G-t8xACDC4T"
      }
    },
    {
      "cell_type": "code",
      "source": [
        "from typing import Tuple\n",
        "from random import sample\n",
        "\n",
        "def selecao_aleatoria_com_reposicao(P: List[Cromossomo]) -> List[Tuple[Cromossomo, Cromossomo]]:\n",
        "    pais = []\n",
        "    for _ in range(len(P) // 2):\n",
        "        pais.append(sample(P, 2))\n",
        "\n",
        "    return pais"
      ],
      "metadata": {
        "id": "iT4imQq-M8-j"
      },
      "execution_count": null,
      "outputs": []
    },
    {
      "cell_type": "markdown",
      "source": [
        "## Algoritmos de recombinação"
      ],
      "metadata": {
        "id": "gtLUu4PkDNCd"
      }
    },
    {
      "cell_type": "code",
      "source": [
        "from random import randint\n",
        "\n",
        "def crossover_1_ponto_corte(pais: List[Tuple[Cromossomo, Cromossomo]]):\n",
        "    filhos = []\n",
        "\n",
        "    # Crossover - 1 ponto de corte\n",
        "    for p1, p2 in pais:\n",
        "        corte = randint(1, len(p1) - 1)\n",
        "\n",
        "        f1 = p1[:corte] + p2[corte:]\n",
        "        f2 = p2[:corte] + p1[corte:]\n",
        "\n",
        "        filhos.append(Cromossomo(p1.fitness, len(f1), f1))\n",
        "        filhos.append(Cromossomo(p1.fitness, len(f2), f2))\n",
        "\n",
        "    return filhos"
      ],
      "metadata": {
        "id": "wiTvpIfPqSCA"
      },
      "execution_count": null,
      "outputs": []
    },
    {
      "cell_type": "code",
      "source": [
        "from random import random\n",
        "\n",
        "def mutacao_aleatoria(filhos, taxa):\n",
        "\n",
        "    for cromossomo in filhos:\n",
        "        for i, pos in enumerate(cromossomo):\n",
        "            if random() <= taxa:\n",
        "                cromossomo[i] = 0 if pos else 1\n",
        "\n",
        "    return filhos"
      ],
      "metadata": {
        "id": "OXw71Qqhs7am"
      },
      "execution_count": null,
      "outputs": []
    },
    {
      "cell_type": "markdown",
      "source": [
        "## Algoritmos de seleção dos sobreviventes"
      ],
      "metadata": {
        "id": "kONDi5C7Dcvg"
      }
    },
    {
      "cell_type": "code",
      "source": [
        "def elitismo(P, F):\n",
        "    populacao_total = P + F\n",
        "    populacao_total.sort(key=lambda c: -c.get_fitness())\n",
        "    return populacao_total[:len(P)]\n"
      ],
      "metadata": {
        "id": "jMSYFzMiuyS6"
      },
      "execution_count": null,
      "outputs": []
    },
    {
      "cell_type": "markdown",
      "source": [
        "## Algoritmo genético"
      ],
      "metadata": {
        "id": "yl9Bns4hDsBo"
      }
    },
    {
      "cell_type": "code",
      "source": [
        "from pprint import pprint\n",
        "\n",
        "def algoritmo_genetico(tam_populacao,\n",
        "                       tam_cromossomo,\n",
        "                       max_geracoes,\n",
        "                       taxa_mutacao,\n",
        "                       fitness,\n",
        "                       selecionar_pais,\n",
        "                       realizar_crossover,\n",
        "                       realizar_mutacao,\n",
        "                       selecionar_sobreviventes):\n",
        "\n",
        "    # 1. t = 0\n",
        "    t = 0\n",
        "\n",
        "    # 2. Inicializar população P0\n",
        "    P = [Cromossomo(fitness, TAM_CROMOSSOMO) for _ in range(TAM_POPULACAO)]\n",
        "\n",
        "    # print(\"# População inicial\")\n",
        "    # pprint([c.vetor for c in P])\n",
        "\n",
        "    # 3. Enquanto critério de parada == falso\n",
        "    # TODO: implementar outros critérios de parada\n",
        "    while t < max_geracoes:\n",
        "\n",
        "        #   3.1 Avaliar população (Pt)\n",
        "        #   OK! Avaliação delegada para o cromossomo \n",
        "\n",
        "        #   3.2 P’ = Selecionar pais (Pt)\n",
        "        pais = selecionar_pais(P)\n",
        "\n",
        "        #   3.3 F  = Aplicar recombinação e mutação (P’)\n",
        "        F = realizar_crossover(pais)\n",
        "        F = realizar_mutacao(F, TAXA_MUTACAO)\n",
        "\n",
        "        #   3.4 Avaliar população (F)\n",
        "        #   OK! Avaliação delegada para o cromossomo \n",
        "\n",
        "        #   3.5 Pt+1 = Selecionar sobreviventes(Pt + F)\n",
        "        P = selecionar_sobreviventes(P, F)\n",
        "\n",
        "        # Imprime o melhor individuo\n",
        "        print(f'| {t:04d} | {P[0].vetor} | {P[0].get_fitness():4d} |')\n",
        "\n",
        "        #   3.6 t = t + 1\n",
        "        t += 1\n",
        "    \n",
        "    print()\n",
        "    print(f'Melhor solução.: {P[0].vetor}')\n",
        "    print(f'Fitness........: {P[0].get_fitness()}')\n",
        "\n",
        "    return P[0]"
      ],
      "metadata": {
        "id": "VvBvqFArLG0L"
      },
      "execution_count": null,
      "outputs": []
    },
    {
      "cell_type": "markdown",
      "source": [
        "## Problema 1\n",
        "\n",
        "Objetivo: maximizar o número de 1s em um cromossomo.\n",
        "\n",
        "Etapas:\n",
        "\n",
        "1. Modelar o genótipo e fenótipo do cromossomo\n",
        "2. Criar a função de avaliação\n",
        "3. Selecionar parâmetros do AG \n",
        "4. Executar"
      ],
      "metadata": {
        "id": "aFrgANU2EqWr"
      }
    },
    {
      "cell_type": "code",
      "source": [
        "# 1. Modelar o genótipo e fenótipo do cromossomo\n",
        "# Cromomossomo normal, sem nenhuma codificação especial para esse problema\n",
        "\n",
        "# 2. Criar a função de avaliação\n",
        "def fitness_maximizar_1(cromossomo):\n",
        "    return sum(cromossomo)\n",
        "\n",
        "# 3. Parametrizar o AG\n",
        "TAM_POPULACAO = 10\n",
        "TAM_CROMOSSOMO = 100\n",
        "MAX_GERACOES = 10\n",
        "\n",
        "TAXA_MUTACAO = 0.005\n",
        "TORNEIO = 2\n",
        "\n",
        "# 4. Executar\n",
        "solucao = algoritmo_genetico(tam_populacao = TAM_POPULACAO,\n",
        "                             tam_cromossomo = TAM_CROMOSSOMO,\n",
        "                             max_geracoes = MAX_GERACOES,\n",
        "                             taxa_mutacao = TAXA_MUTACAO,\n",
        "                             fitness = fitness_maximizar_1,\n",
        "                             selecionar_pais = selecao_aleatoria_com_reposicao,\n",
        "                             realizar_crossover = crossover_1_ponto_corte,\n",
        "                             realizar_mutacao = mutacao_aleatoria,\n",
        "                             selecionar_sobreviventes = elitismo)\n",
        "\n",
        "\n"
      ],
      "metadata": {
        "id": "nSqILIsiEuU2"
      },
      "execution_count": null,
      "outputs": []
    },
    {
      "cell_type": "code",
      "source": [
        "print('== EXPERIMENTO 1 ==')\n",
        "MAX_GERACOES = 100\n",
        "TAXA_MUTACAO = 0.05\n",
        "\n",
        "solucao = algoritmo_genetico(tam_populacao = TAM_POPULACAO,\n",
        "                             tam_cromossomo = TAM_CROMOSSOMO,\n",
        "                             max_geracoes = MAX_GERACOES,\n",
        "                             taxa_mutacao = TAXA_MUTACAO,\n",
        "                             fitness = fitness_maximizar_1,\n",
        "                             selecionar_pais = selecao_aleatoria_com_reposicao,\n",
        "                             realizar_crossover = crossover_1_ponto_corte,\n",
        "                             realizar_mutacao = mutacao_aleatoria,\n",
        "                             selecionar_sobreviventes = elitismo)"
      ],
      "metadata": {
        "id": "pw1-lQbcJNQP"
      },
      "execution_count": null,
      "outputs": []
    },
    {
      "cell_type": "code",
      "source": [
        "print('== EXPERIMENTO 2 ==')\n",
        "MAX_GERACOES = 20\n",
        "TAXA_MUTACAO = 0.1\n",
        "\n",
        "solucao = algoritmo_genetico(tam_populacao = TAM_POPULACAO,\n",
        "                             tam_cromossomo = TAM_CROMOSSOMO,\n",
        "                             max_geracoes = MAX_GERACOES,\n",
        "                             taxa_mutacao = TAXA_MUTACAO,\n",
        "                             fitness = fitness_maximizar_1,\n",
        "                             selecionar_pais = selecao_aleatoria_com_reposicao,\n",
        "                             realizar_crossover = crossover_1_ponto_corte,\n",
        "                             realizar_mutacao = mutacao_aleatoria,\n",
        "                             selecionar_sobreviventes = elitismo)"
      ],
      "metadata": {
        "id": "Uj-nUYc_Kej-"
      },
      "execution_count": null,
      "outputs": []
    },
    {
      "cell_type": "code",
      "source": [
        "print('== EXPERIMENTO 3 ==')\n",
        "MAX_GERACOES = 20\n",
        "TAXA_MUTACAO = 0.8\n",
        "\n",
        "solucao = algoritmo_genetico(tam_populacao = TAM_POPULACAO,\n",
        "                             tam_cromossomo = TAM_CROMOSSOMO,\n",
        "                             max_geracoes = MAX_GERACOES,\n",
        "                             taxa_mutacao = TAXA_MUTACAO,\n",
        "                             fitness = fitness_maximizar_1,\n",
        "                             selecionar_pais = selecao_aleatoria_com_reposicao,\n",
        "                             realizar_crossover = crossover_1_ponto_corte,\n",
        "                             realizar_mutacao = mutacao_aleatoria,\n",
        "                             selecionar_sobreviventes = elitismo)"
      ],
      "metadata": {
        "id": "BL45lq84KuO1"
      },
      "execution_count": null,
      "outputs": []
    }
  ]
}