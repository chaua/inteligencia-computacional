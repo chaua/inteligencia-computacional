{
 "cells": [
  {
   "cell_type": "markdown",
   "id": "c3c2bffa-8eca-4789-97cc-d5b52855f0b7",
   "metadata": {},
   "source": [
    "# Algoritmos Genéticos"
   ]
  },
  {
   "cell_type": "markdown",
   "id": "9bec0bac-5b58-49c6-8b0c-1c032c5a2ebc",
   "metadata": {},
   "source": [
    "## Estrutura básica do AG\n",
    "\n",
    "```\n",
    "1. t = 0\n",
    "2. Inicializar a população inicial P_0\n",
    "3. Enquanto critério de parada == falso\n",
    "   a. Avaliar a população(Pt)\n",
    "   b. P' = Selecionar pais(Pt)\n",
    "   c. F = Aplicar recombinação e mutação(P')\n",
    "   d. Avaliar a população(F)\n",
    "   e. Pt+1 = Selecionar sobreviventes(Pt + F)\n",
    "   f. t = t + 1\n",
    "```"
   ]
  },
  {
   "cell_type": "code",
   "execution_count": 1,
   "id": "499a5f3a-61af-4314-871f-ccf7d11b3388",
   "metadata": {},
   "outputs": [],
   "source": [
    "# Importa a biblioteca para criação de classes de dados\n",
    "from dataclasses import dataclass\n",
    "\n",
    "# Importação dos tipos de dados para o type hint\n",
    "from typing import Callable\n",
    "\n",
    "# Importação da biblioteca de números aleatórios\n",
    "from random import randint\n",
    "from random import sample\n",
    "from random import random\n",
    "\n",
    "# Importação da biblioteca de impressão bonita\n",
    "from pprint import pprint\n"
   ]
  },
  {
   "cell_type": "code",
   "execution_count": 2,
   "id": "02061948-b66e-492b-a2fa-92a7ee8fd33c",
   "metadata": {},
   "outputs": [
    {
     "name": "stdout",
     "output_type": "stream",
     "text": [
      "0\n",
      "1\n",
      "0\n",
      "1\n",
      "1\n",
      "0\n",
      "1\n",
      "1\n",
      "1\n",
      "1\n"
     ]
    }
   ],
   "source": [
    "for i in range(10):\n",
    "    print(randint(0, 1))"
   ]
  },
  {
   "cell_type": "code",
   "execution_count": 3,
   "id": "27623d83-aa45-4b31-9af5-9db44bae47cb",
   "metadata": {},
   "outputs": [
    {
     "data": {
      "text/plain": [
       "[4, 2, 5]"
      ]
     },
     "execution_count": 3,
     "metadata": {},
     "output_type": "execute_result"
    }
   ],
   "source": [
    "sample([1, 2, 3, 4, 5, 6], 3)"
   ]
  },
  {
   "cell_type": "code",
   "execution_count": 4,
   "id": "92b4f114-5f52-439f-ab7e-d763ce9015ba",
   "metadata": {},
   "outputs": [],
   "source": [
    "@dataclass \n",
    "class Cromossomo:\n",
    "    dados: list[int]\n",
    "    fitness: float = 0"
   ]
  },
  {
   "cell_type": "code",
   "execution_count": 5,
   "id": "2cba180e-a77d-491b-afa0-c12c08199db4",
   "metadata": {},
   "outputs": [],
   "source": [
    "@dataclass\n",
    "class Config:\n",
    "    tam_cromossomo: int\n",
    "    tam_populacao: int\n",
    "    fitness: Callable[[Cromossomo], float]\n",
    "\n",
    "    selecionar_pais: Callable[[list[Cromossomo]], list[tuple[Cromossomo, Cromossomo]]]\n",
    "\n",
    "    aplicar_cruzamento: Callable[[list[tuple[Cromossomo, Cromossomo]]], list[Cromossomo]]\n",
    "    \n",
    "    aplicar_mutacao: Callable[[list[Cromossomo], float], None]\n",
    "    taxa_mutacao: float\n",
    "\n",
    "    selecionar_sobreviventes: Callable[[list[Cromossomo]], list[Cromossomo]]\n",
    "\n",
    "\n",
    "    "
   ]
  },
  {
   "cell_type": "markdown",
   "id": "abc5221e-1a73-4d1c-a409-f41e648b0398",
   "metadata": {},
   "source": [
    "## Inicialização da população"
   ]
  },
  {
   "cell_type": "code",
   "execution_count": 6,
   "id": "b7c46216-bd52-4ee8-b44d-b5bbfee9fbf3",
   "metadata": {},
   "outputs": [],
   "source": [
    "def inicializar_populacao(tam_populacao, tam_cromossomo) -> list[Cromossomo]:\n",
    "    P0 = []\n",
    "    for i in range(tam_populacao):\n",
    "        cromossomo = Cromossomo([randint(0, 1) for j in range(tam_cromossomo)])\n",
    "        P0.append(cromossomo)\n",
    "    return P0"
   ]
  },
  {
   "cell_type": "code",
   "execution_count": 7,
   "id": "0344970c-94ff-4f84-bba1-ed79fc5dd290",
   "metadata": {},
   "outputs": [
    {
     "name": "stdout",
     "output_type": "stream",
     "text": [
      "[Cromossomo(dados=[1, 1, 0, 1, 1, 0, 0, 0], fitness=0), Cromossomo(dados=[0, 1, 0, 0, 1, 1, 1, 1], fitness=0), Cromossomo(dados=[1, 0, 1, 1, 0, 0, 1, 0], fitness=0), Cromossomo(dados=[0, 1, 1, 0, 1, 0, 0, 0], fitness=0)]\n"
     ]
    }
   ],
   "source": [
    "print(inicializar_populacao(4, 8))"
   ]
  },
  {
   "cell_type": "markdown",
   "id": "846994b4-3034-415c-976f-f9ceff6343b1",
   "metadata": {},
   "source": [
    "## Seleção dos pais"
   ]
  },
  {
   "cell_type": "code",
   "execution_count": 8,
   "id": "ff1eb593-6efa-4b1a-b571-5668d73649a9",
   "metadata": {},
   "outputs": [],
   "source": [
    "# Seleção por torneio - com reposição\n",
    "# - Seleciona k pais e o tiver melhor fitness é selecionado para formar casal\n",
    "def torneio(populacao: list[Cromossomo], tam_torneio: int = 3) -> list[tuple[Cromossomo, Cromossomo]]:\n",
    "    casais = []\n",
    "\n",
    "    for i in range(len(populacao) // 2):\n",
    "\n",
    "        torneio1 = sample(populacao, tam_torneio * 2)\n",
    "        pai1 = sorted(torneio1, key=lambda x: x.fitness, reverse=True)[0] \n",
    "        \n",
    "        torneio2 = sample(populacao, tam_torneio)\n",
    "        pai2 = sorted(torneio2, key=lambda x: x.fitness, reverse=True)[0] \n",
    "\n",
    "        # TODO: evitar que o selecionado no pai1 seja selecionado como pai2\n",
    "\n",
    "        casais.append((pai1, pai2))\n",
    "    \n",
    "    return casais"
   ]
  },
  {
   "cell_type": "code",
   "execution_count": 9,
   "id": "4e69f8ee-119e-47a4-9eb6-b190eef126aa",
   "metadata": {},
   "outputs": [],
   "source": [
    "## Crossover"
   ]
  },
  {
   "cell_type": "code",
   "execution_count": 10,
   "id": "d30ae3b7-9758-4ca2-afe8-b12b6a515c50",
   "metadata": {},
   "outputs": [],
   "source": [
    "def crossover_1_corte(casais):\n",
    "    filhos = []\n",
    "\n",
    "    for par in casais:\n",
    "\n",
    "        # Desempacota os pais\n",
    "        pai1 = par[0].dados\n",
    "        pai2 = par[1].dados\n",
    "\n",
    "        # Sorteia o ponto de corte\n",
    "        corte = randint(1, len(pai1) - 1)\n",
    "\n",
    "        filho1 = pai1[:corte] + pai2[corte:] \n",
    "        filho2 = pai2[:corte] + pai1[corte:] \n",
    "\n",
    "        filhos.append(Cromossomo(filho1))\n",
    "        filhos.append(Cromossomo(filho2))\n",
    "\n",
    "    return filhos"
   ]
  },
  {
   "cell_type": "code",
   "execution_count": 11,
   "id": "aa348fb1-a12f-4851-88b7-a9d773cef8cc",
   "metadata": {},
   "outputs": [],
   "source": [
    "## Mutação"
   ]
  },
  {
   "cell_type": "code",
   "execution_count": 18,
   "id": "15b68f18-be6c-4902-a905-7e7d0853526e",
   "metadata": {},
   "outputs": [],
   "source": [
    "def mutacao(cromossomos: list[Cromossomo], taxa_mutacao: float):\n",
    "    for cromossomo in cromossomos:\n",
    "        for i, c in enumerate(cromossomo.dados):\n",
    "            if random() < taxa_mutacao:\n",
    "                if c == 1:\n",
    "                    cromossomo.dados[i] = 0\n",
    "                else:\n",
    "                    cromossomo.dados[i] = 1\n",
    "                        \n",
    "    "
   ]
  },
  {
   "cell_type": "code",
   "execution_count": 13,
   "id": "ed648afe-bd73-44b2-ab6c-dacbb1717778",
   "metadata": {},
   "outputs": [],
   "source": [
    "## Seleção dos sobreviventes"
   ]
  },
  {
   "cell_type": "code",
   "execution_count": 14,
   "id": "8eb852d1-d4b1-4944-9e32-2cf98011738d",
   "metadata": {},
   "outputs": [],
   "source": [
    "def elitismo(populacao):\n",
    "    populacao.sort(key=lambda x: x.fitness, reverse=True)\n",
    "    return populacao[:len(populacao)//2]"
   ]
  },
  {
   "cell_type": "code",
   "execution_count": 20,
   "id": "01940da9-79c8-4774-b118-dec1bdcca274",
   "metadata": {},
   "outputs": [],
   "source": [
    "def algoritmo_genetico(config: Config) -> list[int]:\n",
    "    \"\"\"\n",
    "    Implementação do algoritmo genético clássico.\n",
    "\n",
    "    Arguments:\n",
    "        config: Parâmetros de configuração do AG.\n",
    "    \"\"\"\n",
    "\n",
    "    # 1. t = 0\n",
    "    t = 0\n",
    "    \n",
    "    # 2. Inicializar a população inicial P_0\n",
    "    P = inicializar_populacao(config.tam_populacao, config.tam_cromossomo)\n",
    "    \n",
    "    # 3. Enquanto critério de parada == falso\n",
    "    terminou = False\n",
    "    while not terminou:\n",
    "    \n",
    "        # a. Avaliar a população(Pt)\n",
    "        print('> Avaliação da população')\n",
    "        for c in P:\n",
    "            c.fitness = config.fitness(c)\n",
    "            print(c)\n",
    "        \n",
    "        # b. P' = Selecionar pais(Pt)\n",
    "        print('> Seleção dos pais')\n",
    "        casais = config.selecionar_pais(P)\n",
    "        for c in casais:\n",
    "            print(c)\n",
    "            \n",
    "        # c. F = Aplicar recombinação e mutação(P')\n",
    "        print('> Crossover e mutação')\n",
    "        F = config.aplicar_cruzamento(casais)\n",
    "        config.aplicar_mutacao(F, config.taxa_mutacao)\n",
    "        \n",
    "        # d. Avaliar a população(F)\n",
    "        print('> Avaliação da população')\n",
    "        for c in F:\n",
    "            c.fitness = config.fitness(c)\n",
    "            print(c)\n",
    "        \n",
    "        # e. Pt+1 = Selecionar sobreviventes(Pt + F)\n",
    "        print('> Selecionar sobreviventes')\n",
    "        P = config.selecionar_sobreviventes(P + F)\n",
    "        for c in P:\n",
    "            c.fitness = config.fitness(c)\n",
    "            print(c)\n",
    "            \n",
    "        # f. t = t + 1\n",
    "        t = t + 1\n",
    "        break"
   ]
  },
  {
   "cell_type": "markdown",
   "id": "e4cdd5e8-2c57-4e88-ba20-4452847139f8",
   "metadata": {},
   "source": [
    "## Teste do AG"
   ]
  },
  {
   "cell_type": "code",
   "execution_count": 21,
   "id": "38bbb3a3-a264-4ac9-bd93-d1aa2f8d9288",
   "metadata": {},
   "outputs": [
    {
     "name": "stdout",
     "output_type": "stream",
     "text": [
      "> Avaliação da população\n",
      "Cromossomo(dados=[0, 0, 1, 1, 1, 1, 1, 0], fitness=5)\n",
      "Cromossomo(dados=[0, 1, 1, 1, 1, 1, 0, 1], fitness=6)\n",
      "Cromossomo(dados=[1, 1, 0, 0, 1, 0, 0, 1], fitness=4)\n",
      "Cromossomo(dados=[1, 0, 1, 1, 1, 0, 0, 0], fitness=4)\n",
      "Cromossomo(dados=[1, 1, 1, 1, 0, 0, 0, 1], fitness=5)\n",
      "Cromossomo(dados=[1, 1, 0, 1, 0, 0, 0, 1], fitness=4)\n",
      "Cromossomo(dados=[1, 0, 0, 1, 1, 0, 1, 0], fitness=4)\n",
      "Cromossomo(dados=[1, 1, 1, 0, 1, 0, 1, 0], fitness=5)\n",
      "Cromossomo(dados=[1, 0, 1, 1, 0, 0, 1, 1], fitness=5)\n",
      "Cromossomo(dados=[1, 1, 1, 1, 1, 1, 0, 1], fitness=7)\n",
      "> Seleção dos pais\n",
      "(Cromossomo(dados=[1, 1, 1, 1, 1, 1, 0, 1], fitness=7), Cromossomo(dados=[0, 0, 1, 1, 1, 1, 1, 0], fitness=5))\n",
      "(Cromossomo(dados=[1, 1, 1, 1, 1, 1, 0, 1], fitness=7), Cromossomo(dados=[1, 0, 1, 1, 0, 0, 1, 1], fitness=5))\n",
      "(Cromossomo(dados=[0, 0, 1, 1, 1, 1, 1, 0], fitness=5), Cromossomo(dados=[0, 1, 1, 1, 1, 1, 0, 1], fitness=6))\n",
      "(Cromossomo(dados=[1, 1, 1, 1, 1, 1, 0, 1], fitness=7), Cromossomo(dados=[1, 1, 1, 1, 1, 1, 0, 1], fitness=7))\n",
      "(Cromossomo(dados=[1, 1, 1, 0, 1, 0, 1, 0], fitness=5), Cromossomo(dados=[0, 1, 1, 1, 1, 1, 0, 1], fitness=6))\n",
      "> Crossover e mutação\n",
      "> Avaliação da população\n",
      "Cromossomo(dados=[1, 0, 0, 1, 1, 0, 1, 0], fitness=4)\n",
      "Cromossomo(dados=[0, 1, 1, 1, 1, 1, 0, 1], fitness=6)\n",
      "Cromossomo(dados=[1, 1, 1, 1, 1, 1, 0, 1], fitness=7)\n",
      "Cromossomo(dados=[1, 0, 1, 1, 0, 0, 1, 1], fitness=5)\n",
      "Cromossomo(dados=[0, 0, 1, 1, 1, 1, 0, 1], fitness=5)\n",
      "Cromossomo(dados=[0, 0, 1, 1, 1, 1, 1, 0], fitness=5)\n",
      "Cromossomo(dados=[1, 1, 1, 1, 1, 1, 0, 1], fitness=7)\n",
      "Cromossomo(dados=[1, 1, 1, 1, 1, 1, 0, 0], fitness=6)\n",
      "Cromossomo(dados=[1, 1, 1, 0, 1, 1, 0, 1], fitness=6)\n",
      "Cromossomo(dados=[0, 1, 1, 0, 1, 0, 1, 0], fitness=4)\n",
      "> Selecionar sobreviventes\n",
      "Cromossomo(dados=[1, 1, 1, 1, 1, 1, 0, 1], fitness=7)\n",
      "Cromossomo(dados=[1, 1, 1, 1, 1, 1, 0, 1], fitness=7)\n",
      "Cromossomo(dados=[1, 1, 1, 1, 1, 1, 0, 1], fitness=7)\n",
      "Cromossomo(dados=[0, 1, 1, 1, 1, 1, 0, 1], fitness=6)\n",
      "Cromossomo(dados=[0, 1, 1, 1, 1, 1, 0, 1], fitness=6)\n",
      "Cromossomo(dados=[1, 1, 1, 1, 1, 1, 0, 0], fitness=6)\n",
      "Cromossomo(dados=[1, 1, 1, 0, 1, 1, 0, 1], fitness=6)\n",
      "Cromossomo(dados=[0, 0, 1, 1, 1, 1, 1, 0], fitness=5)\n",
      "Cromossomo(dados=[1, 1, 1, 1, 0, 0, 0, 1], fitness=5)\n",
      "Cromossomo(dados=[1, 1, 1, 0, 1, 0, 1, 0], fitness=5)\n"
     ]
    }
   ],
   "source": [
    "# Problema de maximizar a quantidade de 1s no vetor\n",
    "\n",
    "def maximizar_1s(cromossomo: Cromossomo) -> int:\n",
    "    \"\"\"\n",
    "    Função de avaliação do problema. É nessa função que o cromossomo é interpretado\n",
    "    para calcular a aptidão e verificar se está atingindo o objetivo.\n",
    "    \"\"\"\n",
    "    return sum(cromossomo.dados)\n",
    "\n",
    "\n",
    "# Parâmetros de configuração do AG\n",
    "config = Config(\n",
    "    tam_cromossomo=8,\n",
    "\n",
    "    tam_populacao=10,\n",
    "    fitness=maximizar_1s,\n",
    "\n",
    "    taxa_mutacao=0.05,\n",
    "    \n",
    "    selecionar_pais=torneio,\n",
    "\n",
    "    aplicar_cruzamento=crossover_1_corte,\n",
    "    aplicar_mutacao=mutacao,\n",
    "    selecionar_sobreviventes=elitismo,\n",
    ")\n",
    "\n",
    "# Execução do algoritmo genético\n",
    "solucao = algoritmo_genetico(config)"
   ]
  },
  {
   "cell_type": "code",
   "execution_count": null,
   "id": "f30cc30f-4ba3-4b6d-81ce-f7d669bd8f3e",
   "metadata": {},
   "outputs": [],
   "source": []
  }
 ],
 "metadata": {
  "kernelspec": {
   "display_name": "Python 3 (ipykernel)",
   "language": "python",
   "name": "python3"
  },
  "language_info": {
   "codemirror_mode": {
    "name": "ipython",
    "version": 3
   },
   "file_extension": ".py",
   "mimetype": "text/x-python",
   "name": "python",
   "nbconvert_exporter": "python",
   "pygments_lexer": "ipython3",
   "version": "3.11.5"
  }
 },
 "nbformat": 4,
 "nbformat_minor": 5
}
