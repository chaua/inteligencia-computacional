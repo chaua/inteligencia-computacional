{
  "nbformat": 4,
  "nbformat_minor": 0,
  "metadata": {
    "colab": {
      "provenance": [],
      "collapsed_sections": []
    },
    "kernelspec": {
      "name": "python3",
      "display_name": "Python 3"
    },
    "language_info": {
      "name": "python"
    }
  },
  "cells": [
    {
      "cell_type": "markdown",
      "source": [
        "# Nuvem de partículas (PSO)"
      ],
      "metadata": {
        "id": "N5hWWLn35V5i"
      }
    },
    {
      "cell_type": "markdown",
      "source": [
        "```\n",
        "1. P = população inicial de tamanho m\n",
        "2. Enquanto critério de parada == false\n",
        "    a. Para cada partícula p em P\n",
        "        - Se f(p) > pbest, então pbest = f(p)\n",
        "    b. gbest = melhor pbest da vizinhaça\n",
        "    c. Para cada partícula p em P\n",
        "        - vi = wvi \n",
        "                + c1 * r1 (pbest - xi) \n",
        "                + c2 * r2 (gbest - xi)\n",
        "        - pi = pi + vi\n",
        "3. retorna o gbest\n",
        "```"
      ],
      "metadata": {
        "id": "DrlDd7BK5dQi"
      }
    },
    {
      "cell_type": "code",
      "execution_count": 3,
      "metadata": {
        "id": "bRaaRAg45TTJ"
      },
      "outputs": [],
      "source": [
        "from random import uniform\n",
        "from typing import List\n",
        "from typing import Dict\n",
        "\n",
        "from dataclasses import dataclass\n",
        "from dataclasses import field\n",
        "\n",
        "@dataclass\n",
        "class Particula:\n",
        "    # Tamanho da partícula\n",
        "    n: int\n",
        "\n",
        "    # Solução\n",
        "    x: List[float] = field(default_factory=list)\n",
        "    \n",
        "    # Velocidade e deslocamento da partículoa\n",
        "    v: List[float] = field(default_factory=list)\n",
        "\n",
        "    # Melhor solução já encontrada pela partícula\n",
        "    pbest: Dict = field(default_factory=dict)\n",
        "    \n",
        "    tipo: str = 'MIN'\n",
        "\n",
        "    def __post_init__(self):\n",
        "        if not self.x:\n",
        "            self.x = [uniform(-10, 10) for _ in range(self.n)]\n",
        "            self.v = [uniform(-1, 1) for _ in range(self.n)]\n",
        "       \n",
        "        self.pbest['x'] = self.x\n",
        "        self.pbest['fitness'] = 999_999 if self.tipo == 'MIN' else -999_999\n",
        "\n"
      ]
    },
    {
      "cell_type": "code",
      "source": [
        "# Constantes\n",
        "\n",
        "# Coeficiente de inércia: valor entre 0,4 e 0,9\n",
        "W = 0.5 \n",
        "\n",
        "# Valores empiricos: c1 + c2 = 4\n",
        "C1 = 2\n",
        "C2 = 2\n",
        "\n",
        "# Tamanho da população\n",
        "M = 10\n",
        "\n",
        "MAX_ITER = 20"
      ],
      "metadata": {
        "id": "ZqeANaB09QHu"
      },
      "execution_count": 4,
      "outputs": []
    },
    {
      "cell_type": "code",
      "source": [
        "from functools import lru_cache\n",
        "\n",
        "# Definição do problema \n",
        "# @lru_cache(maxsize=200)\n",
        "def f(p: Particula):\n",
        "    x1 = p.x[0]\n",
        "    x2 = p.x[1]\n",
        "\n",
        "    if (x1 - x2) <= 1: return 999_999\n",
        "\n",
        "    return abs(2 * x1 ** 2 - 6 * x1 - 9) + \\\n",
        "           abs(2 * x2 ** 2 - 6 * x2 - 9) "
      ],
      "metadata": {
        "id": "Xh_E-FfX-Nxc"
      },
      "execution_count": 15,
      "outputs": []
    },
    {
      "cell_type": "code",
      "source": [
        "# TODO: Incluir a impressão passo a passo\n",
        "\n",
        "from copy import deepcopy\n",
        "from random import random\n",
        "\n",
        "# 1. P = população inicial de tamanho m\n",
        "P = [Particula(n=2) for _ in range(M)]\n",
        "\n",
        "# 2. Enquanto critério de parada == false\n",
        "g = 0\n",
        "gbest = deepcopy(P[0])\n",
        "\n",
        "while g <= MAX_ITER:\n",
        "\n",
        "    # a. Para cada partícula p em P\n",
        "    for p in P:\n",
        "\n",
        "        # - Se f(p) < pbest, então pbest = f(p)\n",
        "        if p.tipo == 'MIN':\n",
        "            if f(p) < p.pbest['fitness']:\n",
        "                p.pbest['fitness'] = f(p)\n",
        "                p.pbest['x'] = p.x.copy()\n",
        "        else:\n",
        "            if f(p) > p.pbest['fitness']:\n",
        "                p.pbest['fitness'] = f(p)\n",
        "                p.pbest['x'] = p.x.copy()\n",
        "\n",
        "    # b. gbest = melhor pbest da vizinhaça\n",
        "    for p in P:\n",
        "        if p.tipo == 'MIN':\n",
        "            if p.pbest['fitness'] < gbest.pbest['fitness']:\n",
        "                gbest = deepcopy(p)\n",
        "        else:\n",
        "            if p.pbest['fitness'] > gbest.pbest['fitness']:\n",
        "                gbest = deepcopy(p)\n",
        "\n",
        "    # c. Para cada partícula p em P\n",
        "    for p in P:\n",
        "\n",
        "        for i in range(p.n):\n",
        "\n",
        "            # - vi = wvi \n",
        "            #          + c1 * r1 (pbest - xi) \n",
        "            #          + c2 * r2 (gbest - xi)\n",
        "            p.v[i] = W * p.v[i] \\\n",
        "                        + C1 * random() * (p.pbest['x'][i] - p.x[i]) \\\n",
        "                        + C2 * random() * (gbest.x[i] - p.x[i])\n",
        "      \n",
        "            # - pi = pi + vi\n",
        "            p.x[i] += p.v[i]\n",
        "\n",
        "    g += 1\n",
        "\n",
        "# 3. retorna o gbest\n",
        "print(gbest)"
      ],
      "metadata": {
        "colab": {
          "base_uri": "https://localhost:8080/"
        },
        "id": "7es5eX5V-Mqf",
        "outputId": "06c16048-08b0-4727-fbd5-12621919a57c"
      },
      "execution_count": 16,
      "outputs": [
        {
          "output_type": "stream",
          "name": "stdout",
          "text": [
            "Particula(n=2, x=[4.073249440739792, -1.050156839530468], v=[-0.41554716576980405, -0.0017901190827231146], pbest={'x': [4.073249440739792, -1.050156839530468], 'fitness': 0.7501748190566477}, tipo='MIN')\n"
          ]
        }
      ]
    },
    {
      "cell_type": "code",
      "source": [],
      "metadata": {
        "id": "jtOjvkzIVqsX"
      },
      "execution_count": null,
      "outputs": []
    }
  ]
}