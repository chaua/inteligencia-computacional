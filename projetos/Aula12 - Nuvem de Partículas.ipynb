{
  "nbformat": 4,
  "nbformat_minor": 0,
  "metadata": {
    "colab": {
      "provenance": [],
      "collapsed_sections": []
    },
    "kernelspec": {
      "name": "python3",
      "display_name": "Python 3"
    },
    "language_info": {
      "name": "python"
    }
  },
  "cells": [
    {
      "cell_type": "markdown",
      "source": [
        "# Nuvem de partículas (PSO)"
      ],
      "metadata": {
        "id": "N5hWWLn35V5i"
      }
    },
    {
      "cell_type": "markdown",
      "source": [
        "```\n",
        "1. P = população inicial de tamanho m\n",
        "2. Enquanto critério de parada == false\n",
        "    a. Para cada partícula p em P\n",
        "        - Se f(p) > pbest, então pbest = f(p)\n",
        "    b. gbest = melhor pbest da vizinhaça\n",
        "    c. Para cada partícula p em P\n",
        "        - vi = wvi \n",
        "                + c1 * r1 (pbest - xi) \n",
        "                + c2 * r2 (gbest - xi)\n",
        "        - pi = pi + vi\n",
        "3. retorna o gbest\n",
        "```"
      ],
      "metadata": {
        "id": "DrlDd7BK5dQi"
      }
    },
    {
      "cell_type": "code",
      "execution_count": 8,
      "metadata": {
        "id": "bRaaRAg45TTJ"
      },
      "outputs": [],
      "source": [
        "from random import uniform\n",
        "from typing import List\n",
        "\n",
        "from dataclasses import dataclass\n",
        "from dataclasses import field\n",
        "\n",
        "@dataclass\n",
        "class Particula:\n",
        "    n: int\n",
        "    x: List[float] = field(default_factory=list)\n",
        "    v: List[float] = field(default_factory=list)\n",
        "    pbest:float = 0\n",
        "    \n",
        "    tipo: str = 'MIN'\n",
        "\n",
        "    def __post_init__(self):\n",
        "        if not self.x:\n",
        "            self.x = [uniform(-10, 10) for _ in range(self.n)]\n",
        "            self.v = [uniform(-1, 1) for _ in range(self.n)]\n",
        "       \n",
        "        if self.tipo == 'MIN':\n",
        "            self.pbest = 999_999\n",
        "        elif self.tipo == 'MAX':\n",
        "            self.pbest = -999_999\n",
        "        else:\n",
        "            raise RuntimeError('Tipo inválido: MAX ou MIN')\n"
      ]
    },
    {
      "cell_type": "code",
      "source": [
        "# Constantes\n",
        "\n",
        "# Coeficiente de inércia: valor entre 0,4 e 0,9\n",
        "W = 0.5 \n",
        "\n",
        "# Valores empiricos: c1 + c2 = 4\n",
        "C1 = 2\n",
        "C2 = 2\n",
        "\n",
        "# Tamanho da população\n",
        "M = 10\n",
        "\n",
        "MAX_ITER = 20"
      ],
      "metadata": {
        "id": "ZqeANaB09QHu"
      },
      "execution_count": 9,
      "outputs": []
    },
    {
      "cell_type": "code",
      "source": [
        "from functools import lru_cache\n",
        "\n",
        "# Definição do problema \n",
        "# @lru_cache(maxsize=200)\n",
        "def f(p: Particula):\n",
        "    x1 = p.x[0]\n",
        "    x2 = p.x[1]\n",
        "    return abs(2 * x1 ** 2 - 6 * x1 - 9) + \\\n",
        "           abs(2 * x2 ** 2 - 6 * x2 - 9)"
      ],
      "metadata": {
        "id": "Xh_E-FfX-Nxc"
      },
      "execution_count": 10,
      "outputs": []
    },
    {
      "cell_type": "code",
      "source": [
        "# TODO: Incluir a impressão passo a passo\n",
        "\n",
        "from copy import deepcopy\n",
        "from random import random\n",
        "\n",
        "# 1. P = população inicial de tamanho m\n",
        "P = [Particula(n=2) for _ in range(M)]\n",
        "\n",
        "# 2. Enquanto critério de parada == false\n",
        "g = 0\n",
        "gbest = deepcopy(P[0])\n",
        "\n",
        "while g <= MAX_ITER:\n",
        "\n",
        "    # a. Para cada partícula p em P\n",
        "    for p in P:\n",
        "\n",
        "        # - Se f(p) < pbest, então pbest = f(p)\n",
        "        if f(p) < p.pbest:\n",
        "            p.pbest = f(p)\n",
        "    \n",
        "    # b. gbest = melhor pbest da vizinhaça\n",
        "    for p in P:\n",
        "        if p.pbest < gbest.pbest:\n",
        "            gbest = deepcopy(p)\n",
        "    \n",
        "    # c. Para cada partícula p em P\n",
        "    for p in P:\n",
        "\n",
        "        for i in range(p.n):\n",
        "\n",
        "            # - vi = wvi \n",
        "            #          + c1 * r1 (pbest - xi) \n",
        "            #          + c2 * r2 (gbest - xi)\n",
        "            p.v[i] = W * p.v[i] \\\n",
        "                        + C1 * random() * (p.pbest - p.x[i]) \\\n",
        "                        + C2 * random() * (gbest.x[i] - p.x[i])\n",
        "      \n",
        "            # - pi = pi + vi\n",
        "            p.x[i] += p.v[i]\n",
        "\n",
        "# 3. retorna o gbest\n",
        "print(gbest)"
      ],
      "metadata": {
        "colab": {
          "base_uri": "https://localhost:8080/",
          "height": 248
        },
        "id": "7es5eX5V-Mqf",
        "outputId": "80369f57-b95b-4b37-9eaa-8d400a01dbab"
      },
      "execution_count": 11,
      "outputs": [
        {
          "output_type": "error",
          "ename": "KeyboardInterrupt",
          "evalue": "ignored",
          "traceback": [
            "\u001b[0;31m---------------------------------------------------------------------------\u001b[0m",
            "\u001b[0;31mKeyboardInterrupt\u001b[0m                         Traceback (most recent call last)",
            "\u001b[0;32m<ipython-input-11-adc089aa339d>\u001b[0m in \u001b[0;36m<module>\u001b[0;34m\u001b[0m\n\u001b[1;32m     33\u001b[0m             \u001b[0mp\u001b[0m\u001b[0;34m.\u001b[0m\u001b[0mv\u001b[0m\u001b[0;34m[\u001b[0m\u001b[0mi\u001b[0m\u001b[0;34m]\u001b[0m \u001b[0;34m=\u001b[0m \u001b[0mW\u001b[0m \u001b[0;34m*\u001b[0m \u001b[0mp\u001b[0m\u001b[0;34m.\u001b[0m\u001b[0mv\u001b[0m\u001b[0;34m[\u001b[0m\u001b[0mi\u001b[0m\u001b[0;34m]\u001b[0m\u001b[0;31m \u001b[0m\u001b[0;31m\\\u001b[0m\u001b[0;34m\u001b[0m\u001b[0;34m\u001b[0m\u001b[0m\n\u001b[1;32m     34\u001b[0m                         \u001b[0;34m+\u001b[0m \u001b[0mC1\u001b[0m \u001b[0;34m*\u001b[0m \u001b[0mrandom\u001b[0m\u001b[0;34m(\u001b[0m\u001b[0;34m)\u001b[0m \u001b[0;34m*\u001b[0m \u001b[0;34m(\u001b[0m\u001b[0mp\u001b[0m\u001b[0;34m.\u001b[0m\u001b[0mpbest\u001b[0m \u001b[0;34m-\u001b[0m \u001b[0mp\u001b[0m\u001b[0;34m.\u001b[0m\u001b[0mx\u001b[0m\u001b[0;34m[\u001b[0m\u001b[0mi\u001b[0m\u001b[0;34m]\u001b[0m\u001b[0;34m)\u001b[0m\u001b[0;31m \u001b[0m\u001b[0;31m\\\u001b[0m\u001b[0;34m\u001b[0m\u001b[0;34m\u001b[0m\u001b[0m\n\u001b[0;32m---> 35\u001b[0;31m                         \u001b[0;34m+\u001b[0m \u001b[0mC2\u001b[0m \u001b[0;34m*\u001b[0m \u001b[0mrandom\u001b[0m\u001b[0;34m(\u001b[0m\u001b[0;34m)\u001b[0m \u001b[0;34m*\u001b[0m \u001b[0;34m(\u001b[0m\u001b[0mgbest\u001b[0m\u001b[0;34m.\u001b[0m\u001b[0mx\u001b[0m\u001b[0;34m[\u001b[0m\u001b[0mi\u001b[0m\u001b[0;34m]\u001b[0m \u001b[0;34m-\u001b[0m \u001b[0mp\u001b[0m\u001b[0;34m.\u001b[0m\u001b[0mx\u001b[0m\u001b[0;34m[\u001b[0m\u001b[0mi\u001b[0m\u001b[0;34m]\u001b[0m\u001b[0;34m)\u001b[0m\u001b[0;34m\u001b[0m\u001b[0;34m\u001b[0m\u001b[0m\n\u001b[0m\u001b[1;32m     36\u001b[0m \u001b[0;34m\u001b[0m\u001b[0m\n\u001b[1;32m     37\u001b[0m             \u001b[0;31m# - pi = pi + vi\u001b[0m\u001b[0;34m\u001b[0m\u001b[0;34m\u001b[0m\u001b[0;34m\u001b[0m\u001b[0m\n",
            "\u001b[0;31mKeyboardInterrupt\u001b[0m: "
          ]
        }
      ]
    }
  ]
}