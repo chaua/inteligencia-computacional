{
  "nbformat": 4,
  "nbformat_minor": 0,
  "metadata": {
    "colab": {
      "provenance": []
    },
    "kernelspec": {
      "name": "python3",
      "display_name": "Python 3"
    },
    "language_info": {
      "name": "python"
    }
  },
  "cells": [
    {
      "cell_type": "markdown",
      "source": [
        "# kNN"
      ],
      "metadata": {
        "id": "QOnGTE4xWe4G"
      }
    },
    {
      "cell_type": "markdown",
      "source": [
        "## Criação do dataset"
      ],
      "metadata": {
        "id": "uWNGoXBsYOZD"
      }
    },
    {
      "cell_type": "code",
      "source": [
        "# Função para gerar datasets fakes\n",
        "from sklearn.datasets import make_blobs\n",
        "\n",
        "# Importa a biblioteca gráfica\n",
        "import matplotlib.pyplot as plt\n",
        "\n",
        "# Importa a biblioteca numérica\n",
        "import numpy as np"
      ],
      "metadata": {
        "id": "OEvI1A2QWeLz"
      },
      "execution_count": 13,
      "outputs": []
    },
    {
      "cell_type": "code",
      "execution_count": 14,
      "metadata": {
        "id": "cEYZLRjCV3_k"
      },
      "outputs": [],
      "source": [
        "# Criação do dataset\n",
        "centros = [[2, 3], [5, 5]]\n",
        "n_classes = len(centros)\n",
        "\n",
        "dados, labels = make_blobs(n_samples=100, # número de amostras\n",
        "                           centers=np.array(centros), # array com os centros\n",
        "                           random_state=1) # seed aleatória"
      ]
    },
    {
      "cell_type": "code",
      "source": [
        "dados"
      ],
      "metadata": {
        "colab": {
          "base_uri": "https://localhost:8080/"
        },
        "id": "ye7wNdNYZ3RF",
        "outputId": "dc670566-801a-4c20-d8cc-6b1c36f74293"
      },
      "execution_count": 3,
      "outputs": [
        {
          "output_type": "execute_result",
          "data": {
            "text/plain": [
              "array([[1.47182825, 1.92703138],\n",
              "       [4.88955297, 4.38263794],\n",
              "       [5.52057634, 3.85565861],\n",
              "       [4.8190797 , 4.39607937],\n",
              "       [7.19069973, 3.10363908],\n",
              "       [5.79280687, 4.37646927],\n",
              "       [4.73378149, 5.03261455],\n",
              "       [2.12182127, 4.12948391],\n",
              "       [2.04221375, 3.58281521],\n",
              "       [5.24879916, 4.70335885],\n",
              "       [6.16033857, 5.36949272],\n",
              "       [1.80816445, 2.11237104],\n",
              "       [5.01740941, 3.87798127],\n",
              "       [5.04366899, 4.77368576],\n",
              "       [4.18557541, 1.60350366],\n",
              "       [5.23249456, 5.68255141],\n",
              "       [1.30833925, 2.60324647],\n",
              "       [5.50318481, 6.29322588],\n",
              "       [5.80186103, 5.0465673 ],\n",
              "       [3.72744124, 5.31354772],\n",
              "       [5.49521132, 4.82529684],\n",
              "       [2.51292982, 2.70190716],\n",
              "       [3.74481176, 2.2387931 ],\n",
              "       [5.52946532, 5.13770121],\n",
              "       [5.07782113, 5.61838026],\n",
              "       [1.69379599, 3.82797464],\n",
              "       [2.12015895, 3.61720311],\n",
              "       [2.3190391 , 2.75062962],\n",
              "       [3.76994186, 5.5505375 ],\n",
              "       [1.87710977, 2.06423057],\n",
              "       [2.30017032, 2.64775015],\n",
              "       [3.62688268, 5.31515939],\n",
              "       [3.65980218, 3.74204416],\n",
              "       [5.35054598, 3.68771659],\n",
              "       [3.19891788, 3.18515642],\n",
              "       [5.84616065, 4.14048406],\n",
              "       [5.74055645, 4.0462994 ],\n",
              "       [4.97538304, 4.22483838],\n",
              "       [6.0388246 , 7.18697965],\n",
              "       [1.32933771, 3.37756379],\n",
              "       [2.42349435, 3.07734007],\n",
              "       [3.46210794, 0.93985929],\n",
              "       [3.80073197, 5.86334532],\n",
              "       [2.18656139, 3.41005165],\n",
              "       [5.40349164, 5.59357852],\n",
              "       [0.89938082, 4.14472371],\n",
              "       [3.13162939, 4.51981682],\n",
              "       [1.32875387, 2.9873354 ],\n",
              "       [2.90085595, 2.31627214],\n",
              "       [2.23009474, 3.76201118],\n",
              "       [5.44136444, 4.89984477],\n",
              "       [5.86888616, 5.75041164],\n",
              "       [5.6590498 , 3.37256166],\n",
              "       [2.19091548, 5.10025514],\n",
              "       [4.48290554, 4.00297317],\n",
              "       [1.65614632, 3.04359686],\n",
              "       [3.14201814, 6.23616403],\n",
              "       [1.82757179, 2.12214158],\n",
              "       [1.24560206, 4.25286816],\n",
              "       [1.77767186, 2.79924193],\n",
              "       [5.98633519, 5.2135339 ],\n",
              "       [5.60231928, 5.4202822 ],\n",
              "       [6.12141771, 5.40890054],\n",
              "       [6.27375593, 6.96710175],\n",
              "       [7.52832571, 4.75136522],\n",
              "       [2.28558733, 3.88514116],\n",
              "       [6.33145711, 4.71269214],\n",
              "       [3.13376944, 1.90010873],\n",
              "       [5.81095167, 6.04444209],\n",
              "       [4.55287144, 6.2245077 ],\n",
              "       [3.90508815, 5.16938243],\n",
              "       [6.90465871, 6.1110567 ],\n",
              "       [1.79110577, 3.58662319],\n",
              "       [0.88268965, 3.2344157 ],\n",
              "       [2.16003707, 3.87616892],\n",
              "       [4.81343023, 4.89825413],\n",
              "       [4.35308331, 5.90148689],\n",
              "       [3.62434536, 2.38824359],\n",
              "       [1.37999916, 3.69803203],\n",
              "       [2.48851815, 2.92442829],\n",
              "       [6.62765075, 5.3380117 ],\n",
              "       [0.55588619, 2.49553414],\n",
              "       [5.28066508, 4.9268873 ],\n",
              "       [1.73211192, 3.53035547],\n",
              "       [1.6775828 , 2.61594565],\n",
              "       [2.05080775, 2.36300435],\n",
              "       [2.90159072, 3.50249434],\n",
              "       [2.31563495, 0.97779878],\n",
              "       [1.3128273 , 2.15479436],\n",
              "       [5.5627611 , 5.24073709],\n",
              "       [1.25284171, 4.6924546 ],\n",
              "       [0.8574818 , 2.65065728],\n",
              "       [2.19829972, 3.11900865],\n",
              "       [4.96130449, 3.38422765],\n",
              "       [4.68988323, 2.56516224],\n",
              "       [4.86355526, 4.88094581],\n",
              "       [2.83898341, 3.93110208],\n",
              "       [2.86540763, 0.6984613 ],\n",
              "       [5.68006984, 4.6801984 ],\n",
              "       [1.62471505, 2.36126959]])"
            ]
          },
          "metadata": {},
          "execution_count": 3
        }
      ]
    },
    {
      "cell_type": "code",
      "source": [
        "labels"
      ],
      "metadata": {
        "colab": {
          "base_uri": "https://localhost:8080/"
        },
        "id": "Am4mZifCZuCr",
        "outputId": "87dc4065-a4bd-47fe-b3a2-85b78fdb151e"
      },
      "execution_count": 4,
      "outputs": [
        {
          "output_type": "execute_result",
          "data": {
            "text/plain": [
              "array([0, 1, 1, 1, 1, 1, 1, 0, 0, 1, 1, 0, 1, 1, 0, 1, 0, 1, 1, 1, 1, 0,\n",
              "       0, 1, 1, 0, 0, 0, 1, 0, 0, 1, 0, 1, 0, 1, 1, 1, 1, 0, 0, 0, 1, 0,\n",
              "       1, 0, 0, 0, 0, 0, 1, 1, 1, 0, 1, 0, 1, 0, 0, 0, 1, 1, 1, 1, 1, 0,\n",
              "       1, 0, 1, 1, 1, 1, 0, 0, 0, 1, 1, 0, 0, 0, 1, 0, 1, 0, 0, 0, 0, 0,\n",
              "       0, 1, 0, 0, 0, 1, 1, 1, 0, 0, 1, 0])"
            ]
          },
          "metadata": {},
          "execution_count": 4
        }
      ]
    },
    {
      "cell_type": "code",
      "source": [
        "dados[labels==0]"
      ],
      "metadata": {
        "colab": {
          "base_uri": "https://localhost:8080/"
        },
        "id": "PJQwuzqgbg9c",
        "outputId": "0b1e59ea-c055-4b63-df1c-5643d7334ec8"
      },
      "execution_count": 5,
      "outputs": [
        {
          "output_type": "execute_result",
          "data": {
            "text/plain": [
              "array([[1.47182825, 1.92703138],\n",
              "       [2.12182127, 4.12948391],\n",
              "       [2.04221375, 3.58281521],\n",
              "       [1.80816445, 2.11237104],\n",
              "       [4.18557541, 1.60350366],\n",
              "       [1.30833925, 2.60324647],\n",
              "       [2.51292982, 2.70190716],\n",
              "       [3.74481176, 2.2387931 ],\n",
              "       [1.69379599, 3.82797464],\n",
              "       [2.12015895, 3.61720311],\n",
              "       [2.3190391 , 2.75062962],\n",
              "       [1.87710977, 2.06423057],\n",
              "       [2.30017032, 2.64775015],\n",
              "       [3.65980218, 3.74204416],\n",
              "       [3.19891788, 3.18515642],\n",
              "       [1.32933771, 3.37756379],\n",
              "       [2.42349435, 3.07734007],\n",
              "       [3.46210794, 0.93985929],\n",
              "       [2.18656139, 3.41005165],\n",
              "       [0.89938082, 4.14472371],\n",
              "       [3.13162939, 4.51981682],\n",
              "       [1.32875387, 2.9873354 ],\n",
              "       [2.90085595, 2.31627214],\n",
              "       [2.23009474, 3.76201118],\n",
              "       [2.19091548, 5.10025514],\n",
              "       [1.65614632, 3.04359686],\n",
              "       [1.82757179, 2.12214158],\n",
              "       [1.24560206, 4.25286816],\n",
              "       [1.77767186, 2.79924193],\n",
              "       [2.28558733, 3.88514116],\n",
              "       [3.13376944, 1.90010873],\n",
              "       [1.79110577, 3.58662319],\n",
              "       [0.88268965, 3.2344157 ],\n",
              "       [2.16003707, 3.87616892],\n",
              "       [3.62434536, 2.38824359],\n",
              "       [1.37999916, 3.69803203],\n",
              "       [2.48851815, 2.92442829],\n",
              "       [0.55588619, 2.49553414],\n",
              "       [1.73211192, 3.53035547],\n",
              "       [1.6775828 , 2.61594565],\n",
              "       [2.05080775, 2.36300435],\n",
              "       [2.90159072, 3.50249434],\n",
              "       [2.31563495, 0.97779878],\n",
              "       [1.3128273 , 2.15479436],\n",
              "       [1.25284171, 4.6924546 ],\n",
              "       [0.8574818 , 2.65065728],\n",
              "       [2.19829972, 3.11900865],\n",
              "       [2.83898341, 3.93110208],\n",
              "       [2.86540763, 0.6984613 ],\n",
              "       [1.62471505, 2.36126959]])"
            ]
          },
          "metadata": {},
          "execution_count": 5
        }
      ]
    },
    {
      "cell_type": "code",
      "source": [
        "# Desenha os pontos no gráfico\n",
        "fig, ax = plt.subplots(nrows=1, ncols=1, figsize=(6, 4))\n",
        "\n",
        "cores = ['red', 'green']\n",
        "markers = ['v', '^']\n",
        "\n",
        "for i in range(n_classes):\n",
        "    ax.scatter(dados[labels==i, 0],\n",
        "               dados[labels==i, 1],\n",
        "               marker=markers[i],\n",
        "               color=cores[i], \n",
        "               label=str(i))\n",
        "\n",
        "ax.set_title('Disposição dos pontos')\n",
        "ax.legend()\n",
        "\n",
        "plt.show()"
      ],
      "metadata": {
        "colab": {
          "base_uri": "https://localhost:8080/",
          "height": 281
        },
        "id": "nuXnQ2pRZ53D",
        "outputId": "3e3ed811-5883-44f4-dd95-c8d31dc22dfd"
      },
      "execution_count": 6,
      "outputs": [
        {
          "output_type": "display_data",
          "data": {
            "text/plain": [
              "<Figure size 432x288 with 1 Axes>"
            ],
            "image/png": "[encoded data removed]"
          },
          "metadata": {
            "needs_background": "light"
          }
        }
      ]
    },
    {
      "cell_type": "markdown",
      "source": [
        "## Separação do dataset em treino e teste\n"
      ],
      "metadata": {
        "id": "WSJvjMAkeHBV"
      }
    },
    {
      "cell_type": "code",
      "source": [
        "# Porcentagem da divisão do dataset\n",
        "corte = int(dados.shape[0] * 0.7)\n",
        "\n",
        "# Embaralha o dataset\n",
        "np.random.seed(1)\n",
        "np.random.shuffle(dados)\n",
        "\n",
        "np.random.seed(1)\n",
        "np.random.shuffle(labels)\n",
        "\n",
        "# Separa em dois conjuntos\n",
        "treino_X = dados[:corte]\n",
        "teste_X = dados[corte:]\n",
        "\n",
        "treino_y = labels[:corte]\n",
        "teste_y = labels[corte:]"
      ],
      "metadata": {
        "colab": {
          "base_uri": "https://localhost:8080/"
        },
        "id": "QdT0YFFXeHpX",
        "outputId": "2a2661a3-7fe9-47ad-9c81-bb477c8aa624"
      },
      "execution_count": 18,
      "outputs": [
        {
          "output_type": "execute_result",
          "data": {
            "text/plain": [
              "array([[1.87710977, 2.06423057],\n",
              "       [5.49521132, 4.82529684],\n",
              "       [4.86355526, 4.88094581],\n",
              "       [3.76994186, 5.5505375 ],\n",
              "       [2.48851815, 2.92442829],\n",
              "       [5.40349164, 5.59357852],\n",
              "       [2.90085595, 2.31627214],\n",
              "       [1.80816445, 2.11237104],\n",
              "       [1.25284171, 4.6924546 ],\n",
              "       [5.5627611 , 5.24073709],\n",
              "       [7.52832571, 4.75136522],\n",
              "       [3.19891788, 3.18515642],\n",
              "       [2.51292982, 2.70190716],\n",
              "       [5.07782113, 5.61838026],\n",
              "       [1.65614632, 3.04359686],\n",
              "       [4.48290554, 4.00297317],\n",
              "       [1.62471505, 2.36126959],\n",
              "       [1.73211192, 3.53035547],\n",
              "       [2.05080775, 2.36300435],\n",
              "       [2.19829972, 3.11900865],\n",
              "       [5.35054598, 3.68771659],\n",
              "       [6.27375593, 6.96710175],\n",
              "       [1.79110577, 3.58662319],\n",
              "       [3.90508815, 5.16938243],\n",
              "       [6.16033857, 5.36949272],\n",
              "       [2.42349435, 3.07734007],\n",
              "       [5.79280687, 4.37646927],\n",
              "       [2.3190391 , 2.75062962],\n",
              "       [0.89938082, 4.14472371],\n",
              "       [5.52946532, 5.13770121],\n",
              "       [5.98633519, 5.2135339 ],\n",
              "       [4.97538304, 4.22483838],\n",
              "       [1.24560206, 4.25286816],\n",
              "       [4.81343023, 4.89825413],\n",
              "       [6.90465871, 6.1110567 ],\n",
              "       [2.90159072, 3.50249434],\n",
              "       [2.12015895, 3.61720311],\n",
              "       [2.16003707, 3.87616892],\n",
              "       [6.12141771, 5.40890054],\n",
              "       [1.3128273 , 2.15479436],\n",
              "       [1.69379599, 3.82797464],\n",
              "       [7.19069973, 3.10363908],\n",
              "       [5.81095167, 6.04444209],\n",
              "       [3.65980218, 3.74204416],\n",
              "       [5.80186103, 5.0465673 ],\n",
              "       [2.19091548, 5.10025514],\n",
              "       [3.46210794, 0.93985929],\n",
              "       [1.30833925, 2.60324647],\n",
              "       [4.68988323, 2.56516224],\n",
              "       [5.01740941, 3.87798127],\n",
              "       [5.23249456, 5.68255141],\n",
              "       [2.23009474, 3.76201118],\n",
              "       [3.72744124, 5.31354772],\n",
              "       [4.96130449, 3.38422765],\n",
              "       [4.8190797 , 4.39607937],\n",
              "       [5.68006984, 4.6801984 ],\n",
              "       [0.88268965, 3.2344157 ],\n",
              "       [4.73378149, 5.03261455],\n",
              "       [0.55588619, 2.49553414],\n",
              "       [2.12182127, 4.12948391],\n",
              "       [3.13376944, 1.90010873],\n",
              "       [2.04221375, 3.58281521],\n",
              "       [1.82757179, 2.12214158],\n",
              "       [3.62434536, 2.38824359],\n",
              "       [0.8574818 , 2.65065728],\n",
              "       [4.35308331, 5.90148689],\n",
              "       [4.55287144, 6.2245077 ],\n",
              "       [2.30017032, 2.64775015],\n",
              "       [6.62765075, 5.3380117 ],\n",
              "       [4.88955297, 4.38263794],\n",
              "       [2.31563495, 0.97779878],\n",
              "       [2.86540763, 0.6984613 ],\n",
              "       [6.33145711, 4.71269214],\n",
              "       [3.80073197, 5.86334532],\n",
              "       [5.28066508, 4.9268873 ],\n",
              "       [5.24879916, 4.70335885],\n",
              "       [5.6590498 , 3.37256166],\n",
              "       [1.47182825, 1.92703138],\n",
              "       [5.44136444, 4.89984477],\n",
              "       [5.86888616, 5.75041164],\n",
              "       [6.0388246 , 7.18697965],\n",
              "       [3.13162939, 4.51981682],\n",
              "       [1.32933771, 3.37756379],\n",
              "       [1.37999916, 3.69803203],\n",
              "       [5.52057634, 3.85565861],\n",
              "       [2.18656139, 3.41005165],\n",
              "       [5.84616065, 4.14048406],\n",
              "       [5.74055645, 4.0462994 ],\n",
              "       [3.74481176, 2.2387931 ],\n",
              "       [5.04366899, 4.77368576],\n",
              "       [1.6775828 , 2.61594565],\n",
              "       [3.62688268, 5.31515939],\n",
              "       [1.32875387, 2.9873354 ],\n",
              "       [4.18557541, 1.60350366],\n",
              "       [5.50318481, 6.29322588],\n",
              "       [2.83898341, 3.93110208],\n",
              "       [2.28558733, 3.88514116],\n",
              "       [5.60231928, 5.4202822 ],\n",
              "       [3.14201814, 6.23616403],\n",
              "       [1.77767186, 2.79924193]])"
            ]
          },
          "metadata": {},
          "execution_count": 18
        }
      ]
    },
    {
      "cell_type": "code",
      "source": [
        "list(dados)"
      ],
      "metadata": {
        "colab": {
          "base_uri": "https://localhost:8080/"
        },
        "id": "R9Z_nqQpi-5p",
        "outputId": "726eb95d-de94-4872-8b93-f721b914c037"
      },
      "execution_count": 8,
      "outputs": [
        {
          "output_type": "execute_result",
          "data": {
            "text/plain": [
              "[array([1.47182825, 1.92703138]),\n",
              " array([4.88955297, 4.38263794]),\n",
              " array([5.52057634, 3.85565861]),\n",
              " array([4.8190797 , 4.39607937]),\n",
              " array([7.19069973, 3.10363908]),\n",
              " array([5.79280687, 4.37646927]),\n",
              " array([4.73378149, 5.03261455]),\n",
              " array([2.12182127, 4.12948391]),\n",
              " array([2.04221375, 3.58281521]),\n",
              " array([5.24879916, 4.70335885]),\n",
              " array([6.16033857, 5.36949272]),\n",
              " array([1.80816445, 2.11237104]),\n",
              " array([5.01740941, 3.87798127]),\n",
              " array([5.04366899, 4.77368576]),\n",
              " array([4.18557541, 1.60350366]),\n",
              " array([5.23249456, 5.68255141]),\n",
              " array([1.30833925, 2.60324647]),\n",
              " array([5.50318481, 6.29322588]),\n",
              " array([5.80186103, 5.0465673 ]),\n",
              " array([3.72744124, 5.31354772]),\n",
              " array([5.49521132, 4.82529684]),\n",
              " array([2.51292982, 2.70190716]),\n",
              " array([3.74481176, 2.2387931 ]),\n",
              " array([5.52946532, 5.13770121]),\n",
              " array([5.07782113, 5.61838026]),\n",
              " array([1.69379599, 3.82797464]),\n",
              " array([2.12015895, 3.61720311]),\n",
              " array([2.3190391 , 2.75062962]),\n",
              " array([3.76994186, 5.5505375 ]),\n",
              " array([1.87710977, 2.06423057]),\n",
              " array([2.30017032, 2.64775015]),\n",
              " array([3.62688268, 5.31515939]),\n",
              " array([3.65980218, 3.74204416]),\n",
              " array([5.35054598, 3.68771659]),\n",
              " array([3.19891788, 3.18515642]),\n",
              " array([5.84616065, 4.14048406]),\n",
              " array([5.74055645, 4.0462994 ]),\n",
              " array([4.97538304, 4.22483838]),\n",
              " array([6.0388246 , 7.18697965]),\n",
              " array([1.32933771, 3.37756379]),\n",
              " array([2.42349435, 3.07734007]),\n",
              " array([3.46210794, 0.93985929]),\n",
              " array([3.80073197, 5.86334532]),\n",
              " array([2.18656139, 3.41005165]),\n",
              " array([5.40349164, 5.59357852]),\n",
              " array([0.89938082, 4.14472371]),\n",
              " array([3.13162939, 4.51981682]),\n",
              " array([1.32875387, 2.9873354 ]),\n",
              " array([2.90085595, 2.31627214]),\n",
              " array([2.23009474, 3.76201118]),\n",
              " array([5.44136444, 4.89984477]),\n",
              " array([5.86888616, 5.75041164]),\n",
              " array([5.6590498 , 3.37256166]),\n",
              " array([2.19091548, 5.10025514]),\n",
              " array([4.48290554, 4.00297317]),\n",
              " array([1.65614632, 3.04359686]),\n",
              " array([3.14201814, 6.23616403]),\n",
              " array([1.82757179, 2.12214158]),\n",
              " array([1.24560206, 4.25286816]),\n",
              " array([1.77767186, 2.79924193]),\n",
              " array([5.98633519, 5.2135339 ]),\n",
              " array([5.60231928, 5.4202822 ]),\n",
              " array([6.12141771, 5.40890054]),\n",
              " array([6.27375593, 6.96710175]),\n",
              " array([7.52832571, 4.75136522]),\n",
              " array([2.28558733, 3.88514116]),\n",
              " array([6.33145711, 4.71269214]),\n",
              " array([3.13376944, 1.90010873]),\n",
              " array([5.81095167, 6.04444209]),\n",
              " array([4.55287144, 6.2245077 ]),\n",
              " array([3.90508815, 5.16938243]),\n",
              " array([6.90465871, 6.1110567 ]),\n",
              " array([1.79110577, 3.58662319]),\n",
              " array([0.88268965, 3.2344157 ]),\n",
              " array([2.16003707, 3.87616892]),\n",
              " array([4.81343023, 4.89825413]),\n",
              " array([4.35308331, 5.90148689]),\n",
              " array([3.62434536, 2.38824359]),\n",
              " array([1.37999916, 3.69803203]),\n",
              " array([2.48851815, 2.92442829]),\n",
              " array([6.62765075, 5.3380117 ]),\n",
              " array([0.55588619, 2.49553414]),\n",
              " array([5.28066508, 4.9268873 ]),\n",
              " array([1.73211192, 3.53035547]),\n",
              " array([1.6775828 , 2.61594565]),\n",
              " array([2.05080775, 2.36300435]),\n",
              " array([2.90159072, 3.50249434]),\n",
              " array([2.31563495, 0.97779878]),\n",
              " array([1.3128273 , 2.15479436]),\n",
              " array([5.5627611 , 5.24073709]),\n",
              " array([1.25284171, 4.6924546 ]),\n",
              " array([0.8574818 , 2.65065728]),\n",
              " array([2.19829972, 3.11900865]),\n",
              " array([4.96130449, 3.38422765]),\n",
              " array([4.68988323, 2.56516224]),\n",
              " array([4.86355526, 4.88094581]),\n",
              " array([2.83898341, 3.93110208]),\n",
              " array([2.86540763, 0.6984613 ]),\n",
              " array([5.68006984, 4.6801984 ]),\n",
              " array([1.62471505, 2.36126959])]"
            ]
          },
          "metadata": {},
          "execution_count": 8
        }
      ]
    },
    {
      "cell_type": "code",
      "source": [
        "def kNN(k, p):\n",
        "    \n",
        "    # Calcula a distância de p com todos os pontos de treino_X\n",
        "    for q in treino_X:\n",
        "        ...\n",
        "\n",
        "    # Ordena a lista de pontos pela distancia - ordem crescrente\n",
        "\n",
        "    # Seleciona os k primeiros pontos\n",
        "\n",
        "    # Verifica qual label apareceu com a maior frequencia\n",
        "\n",
        "    # Retorna o label com maior frequencia\n"
      ],
      "metadata": {
        "id": "HaRie0aRfW_W"
      },
      "execution_count": 19,
      "outputs": []
    },
    {
      "cell_type": "code",
      "source": [
        "# Avaliação do kNN\n",
        "k = 3\n",
        "\n",
        "predicao = []\n",
        "for p, l in zip(teste_X, teste_y):\n",
        "    label = kNN(k, p)\n",
        "    predicao.append(label)\n",
        "\n",
        "print(predicao)\n"
      ],
      "metadata": {
        "colab": {
          "base_uri": "https://localhost:8080/"
        },
        "id": "dD6AR4oJfqKM",
        "outputId": "fdc24b8a-529c-431c-c5b9-3ab2eda90bd9"
      },
      "execution_count": 21,
      "outputs": [
        {
          "output_type": "stream",
          "name": "stdout",
          "text": [
            "[None, None, None, None, None, None, None, None, None, None, None, None, None, None, None, None, None, None, None, None, None, None, None, None, None, None, None, None, None, None]\n"
          ]
        }
      ]
    },
    {
      "cell_type": "code",
      "source": [
        "a = [1, 2, 3, 4]\n",
        "b = ['a', 'b', 'c', 'd']\n",
        "\n",
        "for i in range(len(a)):\n",
        "    print(a[i], b[i])\n",
        "\n",
        "for x, y in zip(a, b):\n",
        "    print(x, y)"
      ],
      "metadata": {
        "id": "0dt0WkPigGQk"
      },
      "execution_count": null,
      "outputs": []
    }
  ]
}